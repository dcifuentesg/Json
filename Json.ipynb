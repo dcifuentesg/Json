{
  "nbformat": 4,
  "nbformat_minor": 0,
  "metadata": {
    "colab": {
      "provenance": []
    },
    "kernelspec": {
      "name": "python3",
      "display_name": "Python 3"
    },
    "language_info": {
      "name": "python"
    }
  },
  "cells": [
    {
      "cell_type": "markdown",
      "source": [
        "JSON (JavaScript Object Notation) es un formato ligero de intercambio de datos. Es un formato de texto que se utiliza para almacenar y transmitir datos estructurados en forma de pares clave-valor.\n",
        "\n",
        "JSON se utiliza comúnmente en el desarrollo de aplicaciones web y servicios web para intercambiar datos entre el cliente y el servidor. También es ampliamente utilizado en el desarrollo de aplicaciones móviles y en la integración de sistemas.\n",
        "\n",
        "La capacidad de JSON depende del contexto en el que se utilice. No hay una limitación específica en cuanto al tamaño del archivo JSON o al número de elementos que puede contener. Sin embargo, es importante tener en cuenta que el tamaño y la complejidad del JSON pueden afectar el rendimiento de la aplicación y la velocidad de procesamiento de los datos.\n",
        "\n",
        "En términos de rendimiento, JSON es generalmente rápido y eficiente, especialmente cuando se compara con otros formatos de intercambio de datos como XML. Esto se debe a su estructura simple y su representación en formato de texto plano, lo que facilita su procesamiento tanto para las aplicaciones como para los humanos.\n",
        "\n",
        "La latencia de JSON depende de varios factores, como el tamaño del archivo JSON, la velocidad de la red y la capacidad de procesamiento del dispositivo o servidor que maneja los datos. En general, JSON se considera rápido en términos de latencia, pero factores externos pueden afectar el tiempo de transmisión y procesamiento de los datos JSON.\n",
        "\n",
        "En cuanto a la seguridad, JSON en sí mismo no proporciona medidas de seguridad específicas. La seguridad en el intercambio de datos JSON depende de cómo se implemente y se proteja el sistema que utiliza JSON. Es importante aplicar prácticas de seguridad adecuadas, como la validación de datos, la encriptación y la autenticación, para garantizar la integridad y confidencialidad de los datos JSON.\n",
        "\n",
        "Sí, es posible realizar mantenimiento en los datos almacenados en formato JSON. Puedes modificar, agregar o eliminar elementos dentro de un archivo JSON según tus necesidades. La capacidad de realizar mantenimiento en los datos JSON dependerá de la implementación específica de la aplicación o el sistema que utiliza JSON.\n",
        "\n",
        "Chat GPT"
      ],
      "metadata": {
        "id": "91S37-zI_lzh"
      }
    },
    {
      "cell_type": "code",
      "source": [
        "import json"
      ],
      "metadata": {
        "id": "l0SkzYrY_qw7"
      },
      "execution_count": null,
      "outputs": []
    },
    {
      "cell_type": "markdown",
      "source": [
        "Puedes convertir una cadena JSON en un objeto Python utilizando la función json.loads():\n",
        "Ahora, python_obj contendrá un diccionario de Python con los datos convertidos del JSON."
      ],
      "metadata": {
        "id": "dlpIMRyfADcg"
      }
    },
    {
      "cell_type": "code",
      "source": [
        "json_data = '{\"name\": \"John\", \"age\": 30, \"city\": \"New York\"}'\n",
        "python_obj = json.loads(json_data)"
      ],
      "metadata": {
        "id": "u5FlklBg_-sJ"
      },
      "execution_count": null,
      "outputs": []
    },
    {
      "cell_type": "markdown",
      "source": [
        "Puedes convertir un objeto de Python en una cadena JSON utilizando la función json.dumps():"
      ],
      "metadata": {
        "id": "8o0sagvbALdn"
      }
    },
    {
      "cell_type": "code",
      "source": [
        "python_obj = {\"name\": \"John\", \"age\": 30, \"city\": \"New York\"}\n",
        "json_data = json.dumps(python_obj)\n"
      ],
      "metadata": {
        "id": "MW2iaL5oAQTn"
      },
      "execution_count": null,
      "outputs": []
    },
    {
      "cell_type": "markdown",
      "source": [
        "Puedes leer y cargar un archivo JSON en Python utilizando json.load():"
      ],
      "metadata": {
        "id": "IpCkOZwHASV4"
      }
    },
    {
      "cell_type": "code",
      "source": [
        "with open('data.json') as file:\n",
        "    data = json.load(file)"
      ],
      "metadata": {
        "id": "F15dUoNIAVBO"
      },
      "execution_count": null,
      "outputs": []
    },
    {
      "cell_type": "markdown",
      "source": [
        "Puedes escribir datos en un archivo JSON utilizando json.dump():"
      ],
      "metadata": {
        "id": "QhFWahdOAb4p"
      }
    },
    {
      "cell_type": "code",
      "source": [
        "data = {\"name\": \"John\", \"age\": 30, \"city\": \"New York\"}\n",
        "\n",
        "with open('data.json', 'w') as file:\n",
        "    json.dump(data, file)"
      ],
      "metadata": {
        "id": "FIFgWUSNAccs"
      },
      "execution_count": null,
      "outputs": []
    },
    {
      "cell_type": "code",
      "source": [
        "data"
      ],
      "metadata": {
        "colab": {
          "base_uri": "https://localhost:8080/"
        },
        "id": "B9fBZk_jAi6Z",
        "outputId": "efdfb514-cf61-4375-f995-3cf381ad1635"
      },
      "execution_count": null,
      "outputs": [
        {
          "output_type": "execute_result",
          "data": {
            "text/plain": [
              "{'name': 'John', 'age': 30, 'city': 'New York'}"
            ]
          },
          "metadata": {},
          "execution_count": 7
        }
      ]
    },
    {
      "cell_type": "code",
      "source": [
        "import requests\n",
        "import json\n",
        "import pprint\n",
        "\n",
        "url = \"http://api.tvmaze.com/singlesearch/shows\"\n",
        "show = input(\"Please input a show name.  \")\n",
        "params = {\"q\":show}\n",
        "\n",
        "response = requests.get(url, params)\n",
        "\n",
        "if response.status_code == 200:\n",
        "    data = json.loads(response.text)\n",
        "\n",
        "    name = data['name']\n",
        "    premiered = data['premiered']\n",
        "    summary = data['summary']\n",
        "\n",
        "    print(f\"{name} premiered on {premiered}.\")\n",
        "    print(summary)\n",
        "\n",
        "else:\n",
        "    print(f\"Error: {response.status_code}\")"
      ],
      "metadata": {
        "colab": {
          "base_uri": "https://localhost:8080/"
        },
        "id": "45l-rcNhFK-s",
        "outputId": "30c856b2-50ef-4a44-d9fb-bde0d095b0e2"
      },
      "execution_count": null,
      "outputs": [
        {
          "output_type": "stream",
          "name": "stdout",
          "text": [
            "Please input a show name.  game of thrones\n",
            "Game of Thrones premiered on 2011-04-17.\n",
            "<p>Based on the bestselling book series <i>A Song of Ice and Fire</i> by George R.R. Martin, this sprawling new HBO drama is set in a world where summers span decades and winters can last a lifetime. From the scheming south and the savage eastern lands, to the frozen north and ancient Wall that protects the realm from the mysterious darkness beyond, the powerful families of the Seven Kingdoms are locked in a battle for the Iron Throne. This is a story of duplicity and treachery, nobility and honor, conquest and triumph. In the <b>Game of Thrones</b>, you either win or you die.</p>\n"
          ]
        }
      ]
    },
    {
      "cell_type": "markdown",
      "source": [
        "all credits to: TokyoEdtech\n",
        "\n",
        "TokyoEdtech. (2021, 24 de mayo). How to Access Web APIs using Python Requests and JSON [Video]. YouTube. https://www.youtube.com/watch?v=q30GEwUe5gY"
      ],
      "metadata": {
        "id": "s-qcwBDMH_zK"
      }
    }
  ]
}